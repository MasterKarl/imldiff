{
 "cells": [
  {
   "cell_type": "code",
   "execution_count": 4,
   "metadata": {
    "collapsed": false,
    "jupyter": {
     "outputs_hidden": false
    },
    "pycharm": {
     "name": "#%%\n"
    }
   },
   "outputs": [],
   "source": [
    "import plot\n",
    "from scipy.special import expit\n",
    "from sklearn.datasets import make_classification\n",
    "from sklearn.preprocessing import StandardScaler\n",
    "from sklearn.base import BaseEstimator, ClassifierMixin\n",
    "from sklearn.utils.validation import check_X_y, check_array, check_is_fitted\n",
    "from sklearn.utils.multiclass import unique_labels\n",
    "from sklearn.linear_model import LogisticRegression\n",
    "from sklearn.metrics import classification_report, confusion_matrix, ConfusionMatrixDisplay, roc_curve, roc_auc_score\n",
    "from sklearn.model_selection import train_test_split\n",
    "from copy import deepcopy\n",
    "import shap\n",
    "from matplotlib import pyplot as plt\n",
    "import numpy as np\n",
    "import pandas as pd\n",
    "import dill as pickle\n",
    "import copy\n",
    "%matplotlib inline"
   ]
  },
  {
   "cell_type": "markdown",
   "metadata": {},
   "source": [
    "This is based on scikit-learn example [Logistic function](https://scikit-learn.org/stable/auto_examples/linear_model/plot_logistic.html#sphx-glr-auto-examples-linear-model-plot-logistic-py)"
   ]
  },
  {
   "cell_type": "code",
   "execution_count": 5,
   "metadata": {},
   "outputs": [
    {
     "name": "stdout",
     "output_type": "stream",
     "text": [
      "Loaded cached dataset\n"
     ]
    }
   ],
   "source": [
    "try:\n",
    "    with open('dataset.pickle', 'rb') as f:\n",
    "        print('Loaded cached dataset')\n",
    "        X, y, feature_names, n_features, n_samples, decision_rule = pickle.load(f)\n",
    "except FileNotFoundError:\n",
    "    print('No cached dataset found')"
   ]
  },
  {
   "cell_type": "code",
   "execution_count": 3,
   "metadata": {},
   "outputs": [
    {
     "name": "stdout",
     "output_type": "stream",
     "text": [
      "No cached models found\n"
     ]
    }
   ],
   "source": [
    "try:\n",
    "    with open('classifiers.pickle', 'rb') as f:\n",
    "        clf_a, clf_b = pickle.load(f)\n",
    "        print('Loaded cached models')\n",
    "except FileNotFoundError:\n",
    "    print('No cached models found')"
   ]
  },
  {
   "cell_type": "code",
   "execution_count": 4,
   "metadata": {},
   "outputs": [
    {
     "name": "stdout",
     "output_type": "stream",
     "text": [
      "No cached predictions found\n"
     ]
    }
   ],
   "source": [
    "try:\n",
    "    with open('predictions.pickle', 'rb') as f:\n",
    "        X_clean, feature_names, n_features, n_samples_clean, indices, pred_a, pred_b, proba_a, proba_b, log_proba_a, log_proba_b, log_odds_a, log_odds_b = pickle.load(f)\n",
    "        print('Loaded cached predictions')\n",
    "except FileNotFoundError:\n",
    "    print('No cached predictions found')"
   ]
  },
  {
   "cell_type": "markdown",
   "metadata": {},
   "source": [
    "## Generate Data"
   ]
  },
  {
   "cell_type": "code",
   "execution_count": 2,
   "metadata": {},
   "outputs": [],
   "source": [
    "feature_names = ['x1', 'x2']\n",
    "n_features = 2\n",
    "xx, yy = np.mgrid[-1:1:30j, -1:1:30j]\n",
    "X = np.vstack([xx.ravel(), yy.ravel()]).T\n",
    "n_samples = X.shape[0]\n",
    "\n",
    "decision_rule = lambda x: abs(x[0]) < 0.5\n",
    "y = np.array([decision_rule(x) for x in X])\n",
    "\n",
    "with open('dataset.pickle', 'wb') as f:\n",
    "    pickle.dump((X, y, feature_names, n_features, n_samples, decision_rule), f, pickle.HIGHEST_PROTOCOL)"
   ]
  },
  {
   "cell_type": "markdown",
   "metadata": {},
   "source": [
    "## Train Models"
   ]
  },
  {
   "cell_type": "code",
   "execution_count": 5,
   "metadata": {},
   "outputs": [],
   "source": [
    "class RuleClassifier(BaseEstimator, ClassifierMixin):\n",
    "    \n",
    "    def  __init__(self, decision_rule):\n",
    "         self.decision_rule = decision_rule\n",
    "\n",
    "    def fit(self, X, y):\n",
    "        X, y = check_X_y(X, y) \n",
    "        self.classes_ = unique_labels(y)\n",
    "        return self\n",
    "\n",
    "    def predict(self, X):\n",
    "        check_is_fitted(self)\n",
    "        X = check_array(X)\n",
    "        result = np.apply_along_axis(self.decision_rule, 1, X)\n",
    "        y = np.take(self.classes_, result.astype(int))\n",
    "        return y\n",
    "\n",
    "clf_a = RuleClassifier(decision_rule=decision_rule)\n",
    "clf_a.fit(X, y)\n",
    "clf_b = RuleClassifier(decision_rule=lambda x: abs(x[0] + 0.1) < 0.5)\n",
    "clf_b.fit(X, y)\n",
    "with open('classifiers.pickle', 'wb') as f:\n",
    "    pickle.dump((clf_a, clf_b), f, pickle.HIGHEST_PROTOCOL)"
   ]
  },
  {
   "cell_type": "markdown",
   "metadata": {},
   "source": [
    "## Analyze Results"
   ]
  },
  {
   "cell_type": "markdown",
   "metadata": {},
   "source": [
    "## Visualize Distributions of Predictions"
   ]
  },
  {
   "cell_type": "code",
   "execution_count": 6,
   "metadata": {
    "tags": []
   },
   "outputs": [],
   "source": [
    "indices = np.array(range(n_samples))\n",
    "pred_a = clf_a.predict(X)\n",
    "pred_b = clf_b.predict(X)\n",
    "with open('predictions.pickle', 'wb') as f:\n",
    "    pickle.dump((X, feature_names, n_features, n_samples, indices, pred_a, pred_b), f, pickle.HIGHEST_PROTOCOL)"
   ]
  },
  {
   "cell_type": "code",
   "execution_count": 7,
   "metadata": {},
   "outputs": [
    {
     "data": {
      "text/plain": [
       "90"
      ]
     },
     "execution_count": 7,
     "metadata": {},
     "output_type": "execute_result"
    }
   ],
   "source": [
    "np.sum(pred_a != pred_b)"
   ]
  },
  {
   "cell_type": "code",
   "execution_count": 8,
   "metadata": {},
   "outputs": [
    {
     "data": {
      "image/png": "[encoded data removed]",
      "text/plain": [
       "<Figure size 1296x504 with 4 Axes>"
      ]
     },
     "metadata": {
      "needs_background": "light"
     },
     "output_type": "display_data"
    }
   ],
   "source": [
    "predict_proba_a = lambda X: clf_a.predict(X)\n",
    "predict_proba_b = lambda X: clf_b.predict(X)\n",
    "\n",
    "z_from, z_to = 0, 1\n",
    "levels = np.linspace(z_from, z_to, 21)\n",
    "mesh_step_size = .01\n",
    "\n",
    "x_min, x_max = X[:, 0].min() - .5, X[:, 0].max() + .5\n",
    "y_min, y_max = X[:, 1].min() - .5, X[:, 1].max() + .5\n",
    "xx, yy = np.meshgrid(np.arange(x_min, x_max, mesh_step_size), np.arange(y_min, y_max, mesh_step_size))\n",
    "\n",
    "fig, axs = plt.subplots(1, 2, sharex=True, sharey=True, figsize=(2*9, 7))\n",
    "for name, predict, ax in zip(('A', 'B'), (predict_proba_a, predict_proba_b), axs):\n",
    "    Z = predict(np.c_[xx.ravel(), yy.ravel()])\n",
    "    Z = Z.reshape(xx.shape)\n",
    "    cs = ax.contourf(xx, yy, Z, levels, cmap=plt.cm.get_cmap('RdBu').reversed(), alpha=.8)\n",
    "    fig.colorbar(cs, ax=ax, shrink=0.9)\n",
    "    ax.scatter(X[:, 0], X[:, 1], c='k', edgecolors='k')\n",
    "    ax.set_xlim(xx.min(), xx.max())\n",
    "    ax.set_ylim(yy.min(), yy.max())\n",
    "    ax.set_xlabel(feature_names[0])\n",
    "    ax.set_ylabel(feature_names[1])\n",
    "    ax.set_title(name)"
   ]
  },
  {
   "cell_type": "code",
   "execution_count": null,
   "metadata": {},
   "outputs": [],
   "source": []
  }
 ],
 "metadata": {
  "kernelspec": {
   "display_name": "Python 3.9 (XPython)",
   "language": "python",
   "name": "xpython"
  },
  "language_info": {
   "file_extension": ".py",
   "mimetype": "text/x-python",
   "name": "python",
   "version": "3.9.2"
  }
 },
 "nbformat": 4,
 "nbformat_minor": 4
}
