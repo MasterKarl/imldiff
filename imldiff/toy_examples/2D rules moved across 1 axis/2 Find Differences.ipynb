{
 "cells": [
  {
   "cell_type": "code",
   "execution_count": 26,
   "id": "figured-canada",
   "metadata": {},
   "outputs": [],
   "source": [
    "from matplotlib import pyplot as plt\n",
    "import numpy as np\n",
    "import pandas as pd\n",
    "import pickle\n",
    "%matplotlib inline"
   ]
  },
  {
   "cell_type": "code",
   "execution_count": 27,
   "id": "annual-pottery",
   "metadata": {
    "tags": []
   },
   "outputs": [],
   "source": [
    "with open('predictions.pickle', 'rb') as f:\n",
    "    X, feature_names, n_features, n_samples, indices, pred_a, pred_b = pickle.load(f)"
   ]
  },
  {
   "cell_type": "code",
   "execution_count": 28,
   "id": "complex-anthony",
   "metadata": {},
   "outputs": [
    {
     "name": "stdout",
     "output_type": "stream",
     "text": [
      "Loaded cached subsets\n"
     ]
    }
   ],
   "source": [
    "try:\n",
    "    with open('subsets.pickle', 'rb') as f:\n",
    "        is_pred_diff, is_pred_diff_a_pos, is_pred_diff_b_pos = pickle.load(f)\n",
    "        print('Loaded cached subsets')\n",
    "except FileNotFoundError:\n",
    "    print('No cached subsets found')"
   ]
  },
  {
   "cell_type": "markdown",
   "id": "reduced-price",
   "metadata": {},
   "source": [
    "### Differences of predicted labels"
   ]
  },
  {
   "cell_type": "markdown",
   "id": "quarterly-hello",
   "metadata": {},
   "source": [
    "First, let's see to what extent the predicted labels are different:"
   ]
  },
  {
   "cell_type": "code",
   "execution_count": 29,
   "id": "hindu-fruit",
   "metadata": {},
   "outputs": [
    {
     "data": {
      "text/plain": [
       "90"
      ]
     },
     "execution_count": 29,
     "metadata": {},
     "output_type": "execute_result"
    }
   ],
   "source": [
    "is_pred_diff = pred_a != pred_b\n",
    "np.sum(is_pred_diff)"
   ]
  },
  {
   "cell_type": "markdown",
   "id": "miniature-bulgaria",
   "metadata": {},
   "source": [
    "In how many of these cases does classifier A predict the positive label, and in how many B?"
   ]
  },
  {
   "cell_type": "code",
   "execution_count": 30,
   "id": "boxed-equivalent",
   "metadata": {},
   "outputs": [
    {
     "name": "stdout",
     "output_type": "stream",
     "text": [
      "A predicts positive: 30\n",
      "B predicts positive: 60\n"
     ]
    }
   ],
   "source": [
    "is_pred_diff_a_pos = is_pred_diff & (pred_a == True)\n",
    "is_pred_diff_b_pos = is_pred_diff & (pred_b == True)\n",
    "print(f'A predicts positive: {np.sum(is_pred_diff_a_pos)}')\n",
    "print(f'B predicts positive: {np.sum(is_pred_diff_b_pos)}')"
   ]
  },
  {
   "cell_type": "code",
   "execution_count": 31,
   "id": "amended-brunei",
   "metadata": {},
   "outputs": [],
   "source": [
    "with open('subsets.pickle', 'wb') as f:\n",
    "    pickle.dump((is_pred_diff, is_pred_diff_a_pos, is_pred_diff_b_pos), f, pickle.HIGHEST_PROTOCOL)"
   ]
  },
  {
   "cell_type": "code",
   "execution_count": null,
   "id": "collect-stuart",
   "metadata": {},
   "outputs": [],
   "source": []
  }
 ],
 "metadata": {
  "kernelspec": {
   "display_name": "Python 3.9 (XPython)",
   "language": "python",
   "name": "xpython"
  },
  "language_info": {
   "file_extension": ".py",
   "mimetype": "text/x-python",
   "name": "python",
   "version": "3.9.2"
  }
 },
 "nbformat": 4,
 "nbformat_minor": 5
}
