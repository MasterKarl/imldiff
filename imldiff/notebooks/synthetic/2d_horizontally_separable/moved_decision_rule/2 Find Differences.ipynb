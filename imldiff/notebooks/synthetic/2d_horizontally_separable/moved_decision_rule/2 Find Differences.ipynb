{
 "cells": [
  {
   "cell_type": "code",
   "execution_count": 5,
   "id": "august-bangladesh",
   "metadata": {},
   "outputs": [],
   "source": [
    "from difference_models import TwoClassDifferenceClassifier\n",
    "from matplotlib import pyplot as plt\n",
    "import numpy as np\n",
    "import pandas as pd\n",
    "import pickle\n",
    "from sklearn.metrics import classification_report, confusion_matrix, ConfusionMatrixDisplay, roc_curve, roc_auc_score\n",
    "%matplotlib inline"
   ]
  },
  {
   "cell_type": "code",
   "execution_count": 2,
   "id": "miniature-hotel",
   "metadata": {
    "tags": []
   },
   "outputs": [],
   "source": [
    "with open('dataset.pickle', 'rb') as f:\n",
    "    X, y, feature_names, n_features, n_samples = pickle.load(f)\n",
    "with open('classifiers.pickle', 'rb') as f:\n",
    "    clf_a, clf_b = pickle.load(f)"
   ]
  },
  {
   "cell_type": "markdown",
   "id": "classical-freeze",
   "metadata": {},
   "source": [
    "### Differences of predicted labels"
   ]
  },
  {
   "cell_type": "markdown",
   "id": "varied-anthony",
   "metadata": {},
   "source": [
    "First, let's see to what extent the predicted labels are different:"
   ]
  },
  {
   "cell_type": "code",
   "execution_count": 6,
   "id": "damaged-third",
   "metadata": {},
   "outputs": [
    {
     "data": {
      "text/plain": [
       "TwoClassDifferenceClassifier(clf_a=RuleClassifier(decision_rule=<function <lambda> at 0x119441a60>),\n",
       "                             clf_b=RuleClassifier(decision_rule=<function <lambda> at 0x119441d30>))"
      ]
     },
     "execution_count": 6,
     "metadata": {},
     "output_type": "execute_result"
    }
   ],
   "source": [
    "simple_diff_clf = TwoClassDifferenceClassifier(clf_a, clf_b)\n",
    "simple_diff_clf.fit(X, y)"
   ]
  },
  {
   "cell_type": "code",
   "execution_count": 7,
   "id": "urban-fighter",
   "metadata": {},
   "outputs": [
    {
     "data": {
      "text/plain": [
       "810"
      ]
     },
     "execution_count": 7,
     "metadata": {},
     "output_type": "execute_result"
    }
   ],
   "source": [
    "is_pred_equal = simple_diff_clf.predict(X)\n",
    "np.sum(is_pred_equal)"
   ]
  },
  {
   "cell_type": "code",
   "execution_count": 8,
   "id": "driven-guide",
   "metadata": {},
   "outputs": [
    {
     "data": {
      "text/plain": [
       "90"
      ]
     },
     "execution_count": 8,
     "metadata": {},
     "output_type": "execute_result"
    }
   ],
   "source": [
    "is_pred_different = ~is_pred_equal\n",
    "np.sum(is_pred_different)"
   ]
  },
  {
   "cell_type": "markdown",
   "id": "different-classroom",
   "metadata": {},
   "source": [
    "Let's investigate the predicted labels in more detail, using adapted classical tools for classification evaluation:"
   ]
  },
  {
   "cell_type": "code",
   "execution_count": 9,
   "id": "satisfied-dubai",
   "metadata": {},
   "outputs": [
    {
     "data": {
      "image/png": "[encoded data removed]",
      "text/plain": [
       "<Figure size 432x288 with 2 Axes>"
      ]
     },
     "metadata": {
      "needs_background": "light"
     },
     "output_type": "display_data"
    }
   ],
   "source": [
    "pred_a = clf_a.predict(X)\n",
    "pred_b = clf_b.predict(X)\n",
    "cm = confusion_matrix(pred_a, pred_b, labels=diff_clf.base_classes)\n",
    "disp = ConfusionMatrixDisplay(confusion_matrix=cm, display_labels=diff_clf.base_classes)\n",
    "fig, ax = plt.subplots()\n",
    "disp.plot(ax=ax)\n",
    "ax.set_ylabel('$y_A$')\n",
    "ax.set_xlabel('$y_B$')\n",
    "plt.show()"
   ]
  },
  {
   "cell_type": "markdown",
   "id": "reduced-tennessee",
   "metadata": {},
   "source": [
    "For 30 instances, A predicts True and B False, whereas for 60 instances A predicts False and B True."
   ]
  },
  {
   "cell_type": "code",
   "execution_count": 11,
   "id": "specified-geneva",
   "metadata": {},
   "outputs": [],
   "source": [
    "proba_a = clf_a.predict_proba(X)[:, 1]\n",
    "proba_b = clf_b.predict_proba(X)[:, 1]\n",
    "fpr, tpr, _ = roc_curve(proba_a, proba_b)"
   ]
  },
  {
   "cell_type": "code",
   "execution_count": 12,
   "id": "arctic-stockholm",
   "metadata": {},
   "outputs": [
    {
     "data": {
      "image/png": "[encoded data removed]",
      "text/plain": [
       "<Figure size 432x288 with 1 Axes>"
      ]
     },
     "metadata": {
      "needs_background": "light"
     },
     "output_type": "display_data"
    }
   ],
   "source": [
    "plt.figure(1)\n",
    "plt.plot([0, 1], [0, 1], 'k--')\n",
    "plt.plot(fpr, tpr, label='f')\n",
    "plt.xlabel('False positive rate')\n",
    "plt.ylabel('True positive rate')\n",
    "plt.title('ROC curve')\n",
    "plt.legend(loc='best')\n",
    "plt.show()"
   ]
  },
  {
   "cell_type": "markdown",
   "id": "associate-clinic",
   "metadata": {},
   "source": [
    "The ROC curve has one dominant peak, because the predicted probabilities are just 0's and 1's"
   ]
  },
  {
   "cell_type": "code",
   "execution_count": 14,
   "id": "passing-peninsula",
   "metadata": {},
   "outputs": [
    {
     "data": {
      "text/plain": [
       "0.9017857142857143"
      ]
     },
     "execution_count": 14,
     "metadata": {},
     "output_type": "execute_result"
    }
   ],
   "source": [
    "roc_auc_score(proba_a, proba_b)"
   ]
  },
  {
   "cell_type": "markdown",
   "id": "deadly-southwest",
   "metadata": {},
   "source": [
    "This metric may be seen as a goodness of fit of the predictions of A to B"
   ]
  }
 ],
 "metadata": {
  "kernelspec": {
   "display_name": "Python 3.9 (XPython)",
   "language": "python",
   "name": "xpython"
  },
  "language_info": {
   "file_extension": ".py",
   "mimetype": "text/x-python",
   "name": "python",
   "version": "3.9.2"
  }
 },
 "nbformat": 4,
 "nbformat_minor": 5
}
