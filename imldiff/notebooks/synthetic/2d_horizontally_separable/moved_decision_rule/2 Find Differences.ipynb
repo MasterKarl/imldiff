{
 "cells": [
  {
   "cell_type": "code",
   "execution_count": 1,
   "id": "detailed-resort",
   "metadata": {},
   "outputs": [],
   "source": [
    "from difference_models import BinaryDifferenceClassifier\n",
    "from matplotlib import pyplot as plt\n",
    "import numpy as np\n",
    "import pandas as pd\n",
    "import pickle\n",
    "from sklearn.metrics import classification_report, confusion_matrix, ConfusionMatrixDisplay\n",
    "%matplotlib inline"
   ]
  },
  {
   "cell_type": "code",
   "execution_count": 2,
   "id": "miniature-curtis",
   "metadata": {
    "tags": []
   },
   "outputs": [],
   "source": [
    "with open('dataset.pickle', 'rb') as f:\n",
    "    X, y, feature_names, n_features, n_samples = pickle.load(f)\n",
    "with open('classifiers.pickle', 'rb') as f:\n",
    "    clf_a, clf_b = pickle.load(f)"
   ]
  },
  {
   "cell_type": "markdown",
   "id": "acceptable-display",
   "metadata": {},
   "source": [
    "### Differences of predicted labels"
   ]
  },
  {
   "cell_type": "markdown",
   "id": "grateful-bundle",
   "metadata": {},
   "source": [
    "First, let's see to what extent the predicted labels are different:"
   ]
  },
  {
   "cell_type": "code",
   "execution_count": 4,
   "id": "impressive-motor",
   "metadata": {},
   "outputs": [
    {
     "data": {
      "text/plain": [
       "BinaryDifferenceClassifier(clf_a=RuleClassifier(decision_rule=<function <lambda> at 0x109507ca0>),\n",
       "                           clf_b=RuleClassifier(decision_rule=<function <lambda> at 0x109507f70>))"
      ]
     },
     "execution_count": 4,
     "metadata": {},
     "output_type": "execute_result"
    }
   ],
   "source": [
    "binary_diff_clf = BinaryDifferenceClassifier(clf_a, clf_b)\n",
    "binary_diff_clf.fit(X, y)"
   ]
  },
  {
   "cell_type": "code",
   "execution_count": 5,
   "id": "manufactured-manufacturer",
   "metadata": {},
   "outputs": [
    {
     "data": {
      "text/plain": [
       "810"
      ]
     },
     "execution_count": 5,
     "metadata": {},
     "output_type": "execute_result"
    }
   ],
   "source": [
    "is_pred_equal = binary_diff_clf.predict(X)\n",
    "np.sum(is_pred_equal)"
   ]
  },
  {
   "cell_type": "code",
   "execution_count": 6,
   "id": "worthy-lexington",
   "metadata": {},
   "outputs": [
    {
     "data": {
      "text/plain": [
       "90"
      ]
     },
     "execution_count": 6,
     "metadata": {},
     "output_type": "execute_result"
    }
   ],
   "source": [
    "is_pred_diff = ~is_pred_equal\n",
    "np.sum(is_pred_diff)"
   ]
  },
  {
   "cell_type": "markdown",
   "id": "personalized-alexandria",
   "metadata": {},
   "source": [
    "Let's investigate the predicted labels in more detail, using adapted classical tools for classification evaluation:"
   ]
  },
  {
   "cell_type": "code",
   "execution_count": 7,
   "id": "fourth-linux",
   "metadata": {},
   "outputs": [
    {
     "data": {
      "image/png": "[encoded data removed]",
      "text/plain": [
       "<Figure size 432x288 with 2 Axes>"
      ]
     },
     "metadata": {
      "needs_background": "light"
     },
     "output_type": "display_data"
    }
   ],
   "source": [
    "pred_a = clf_a.predict(X)\n",
    "pred_b = clf_b.predict(X)\n",
    "cm = confusion_matrix(pred_a, pred_b, labels=clf_a.classes_)\n",
    "disp = ConfusionMatrixDisplay(confusion_matrix=cm, display_labels=clf_a.classes_)\n",
    "fig, ax = plt.subplots()\n",
    "disp.plot(ax=ax)\n",
    "ax.set_ylabel('$y_A$')\n",
    "ax.set_xlabel('$y_B$')\n",
    "plt.show()"
   ]
  },
  {
   "cell_type": "markdown",
   "id": "devoted-theology",
   "metadata": {},
   "source": [
    "For 30 instances, A predicts True and B False, whereas for 60 instances A predicts False and B True."
   ]
  }
 ],
 "metadata": {
  "kernelspec": {
   "display_name": "Python 3",
   "language": "python",
   "name": "python3"
  },
  "language_info": {
   "codemirror_mode": {
    "name": "ipython",
    "version": 3
   },
   "file_extension": ".py",
   "mimetype": "text/x-python",
   "name": "python",
   "nbconvert_exporter": "python",
   "pygments_lexer": "ipython3",
   "version": "3.9.4"
  }
 },
 "nbformat": 4,
 "nbformat_minor": 5
}
