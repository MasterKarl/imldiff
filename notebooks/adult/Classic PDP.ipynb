{
 "cells": [
  {
   "cell_type": "code",
   "execution_count": 18,
   "metadata": {},
   "outputs": [],
   "source": [
    "import matplotlib\n",
    "import matplotlib.pyplot as plt\n",
    "import matplotlib.gridspec as gridspec\n",
    "from comparers import LogisticRegressionVsXGBComparer\n",
    "from comparers import X, y\n",
    "import shap"
   ]
  },
  {
   "cell_type": "code",
   "execution_count": 19,
   "metadata": {},
   "outputs": [],
   "source": [
    "%matplotlib widget"
   ]
  },
  {
   "cell_type": "code",
   "execution_count": 20,
   "metadata": {},
   "outputs": [],
   "source": [
    "comparer = LogisticRegressionVsXGBComparer()\n",
    "comparer.load_or_train()"
   ]
  },
  {
   "cell_type": "markdown",
   "metadata": {},
   "source": [
    "# Partial dependence plots\n",
    "## Probabilities\n",
    "> Note that explaining the probability of a linear logistic regression model is not linear in the inputs.\n",
    "> (Source: [SHAP docs](https://shap.readthedocs.io/en/latest/example_notebooks/overviews/An%20introduction%20to%20explainable%20AI%20with%20Shapley%20values.html))"
   ]
  },
  {
   "cell_type": "code",
   "execution_count": 22,
   "metadata": {},
   "outputs": [
    {
     "data": {
      "application/vnd.jupyter.widget-view+json": {
       "model_id": "48bef3d0882d409fb216be2d8026862f",
       "version_major": 2,
       "version_minor": 0
      },
      "text/plain": [
       "Canvas(toolbar=Toolbar(toolitems=[('Home', 'Reset original view', 'home', 'home'), ('Back', 'Back to previous …"
      ]
     },
     "metadata": {},
     "output_type": "display_data"
    },
    {
     "data": {
      "application/vnd.jupyter.widget-view+json": {
       "model_id": "6db550c467254939b6ace8a57362b56e",
       "version_major": 2,
       "version_minor": 0
      },
      "text/plain": [
       "Canvas(toolbar=Toolbar(toolitems=[('Home', 'Reset original view', 'home', 'home'), ('Back', 'Back to previous …"
      ]
     },
     "metadata": {},
     "output_type": "display_data"
    },
    {
     "data": {
      "text/plain": [
       "Text(0.5, 1.0, 'Partial dependence for predicted probabilities of model B')"
      ]
     },
     "execution_count": 22,
     "metadata": {},
     "output_type": "execute_result"
    }
   ],
   "source": [
    "sample_ind = 18\n",
    "# take care: plt.subplots does not work with shap.partial_dependence_plot\n",
    "\n",
    "fig, ax = shap.partial_dependence_plot(\n",
    "    \"Capital Gain\", comparer.model_a.predict_proba, X, model_expected_value=True,\n",
    "    feature_expected_value=True, show=False, ice=False\n",
    ")\n",
    "ax.set_title('Partial dependence for predicted probabilities of model A')\n",
    "\n",
    "fig, ax = shap.partial_dependence_plot(\n",
    "    \"Capital Gain\", comparer.model_b.predict_proba, X, model_expected_value=True,\n",
    "    feature_expected_value=True, show=False, ice=False\n",
    ")\n",
    "ax.set_title('Partial dependence for predicted probabilities of model B')"
   ]
  },
  {
   "cell_type": "code",
   "execution_count": 23,
   "metadata": {},
   "outputs": [
    {
     "data": {
      "application/vnd.jupyter.widget-view+json": {
       "model_id": "d9ea355f42724f6ab04f70ae445a1b37",
       "version_major": 2,
       "version_minor": 0
      },
      "text/plain": [
       "Canvas(toolbar=Toolbar(toolitems=[('Home', 'Reset original view', 'home', 'home'), ('Back', 'Back to previous …"
      ]
     },
     "metadata": {},
     "output_type": "display_data"
    },
    {
     "data": {
      "application/vnd.jupyter.widget-view+json": {
       "model_id": "e24790cd1d5243949a3d7ee56afec548",
       "version_major": 2,
       "version_minor": 0
      },
      "text/plain": [
       "Canvas(toolbar=Toolbar(toolitems=[('Home', 'Reset original view', 'home', 'home'), ('Back', 'Back to previous …"
      ]
     },
     "metadata": {},
     "output_type": "display_data"
    },
    {
     "data": {
      "text/plain": [
       "Text(0.5, 1.0, 'Partial dependence for predicted probabilities of model B')"
      ]
     },
     "execution_count": 23,
     "metadata": {},
     "output_type": "execute_result"
    }
   ],
   "source": [
    "fig,ax = shap.partial_dependence_plot(\n",
    "    \"Age\", comparer.model_a.predict_proba, X, model_expected_value=True,\n",
    "    feature_expected_value=True, show=False, ice=False\n",
    ")\n",
    "ax.set_title('Partial dependence for predicted probabilities of model A')\n",
    "\n",
    "fig,ax = shap.partial_dependence_plot(\n",
    "    \"Age\", comparer.model_b.predict_proba, X, model_expected_value=True,\n",
    "    feature_expected_value=True, show=False, ice=False\n",
    ")\n",
    "ax.set_title('Partial dependence for predicted probabilities of model B')"
   ]
  },
  {
   "cell_type": "markdown",
   "metadata": {},
   "source": [
    "## Odds ratios"
   ]
  },
  {
   "cell_type": "code",
   "execution_count": 24,
   "metadata": {},
   "outputs": [
    {
     "name": "stderr",
     "output_type": "stream",
     "text": [
      "divide by zero encountered in true_divide\n",
      "divide by zero encountered in true_divide\n",
      "divide by zero encountered in true_divide\n",
      "divide by zero encountered in true_divide\n",
      "divide by zero encountered in true_divide\n",
      "divide by zero encountered in true_divide\n",
      "divide by zero encountered in true_divide\n"
     ]
    },
    {
     "data": {
      "application/vnd.jupyter.widget-view+json": {
       "model_id": "c60ebdecf1f44efeb495b19ce734926d",
       "version_major": 2,
       "version_minor": 0
      },
      "text/plain": [
       "Canvas(toolbar=Toolbar(toolitems=[('Home', 'Reset original view', 'home', 'home'), ('Back', 'Back to previous …"
      ]
     },
     "metadata": {},
     "output_type": "display_data"
    },
    {
     "data": {
      "application/vnd.jupyter.widget-view+json": {
       "model_id": "23e14ba6cfa241c781ac8624dc9b3989",
       "version_major": 2,
       "version_minor": 0
      },
      "text/plain": [
       "Canvas(toolbar=Toolbar(toolitems=[('Home', 'Reset original view', 'home', 'home'), ('Back', 'Back to previous …"
      ]
     },
     "metadata": {},
     "output_type": "display_data"
    },
    {
     "data": {
      "text/plain": [
       "Text(0.5, 1.0, 'Partial dependence for predicted odds ratios of model B')"
      ]
     },
     "execution_count": 24,
     "metadata": {},
     "output_type": "execute_result"
    }
   ],
   "source": [
    "fig, ax = shap.partial_dependence_plot(\n",
    "    \"Capital Gain\", comparer.model_a.predict_odds, X, model_expected_value=True,\n",
    "    feature_expected_value=True, show=False, ice=False\n",
    ")\n",
    "ax.set_title('Partial dependence for predicted odds ratios of model A')\n",
    "\n",
    "fig, ax = shap.partial_dependence_plot(\n",
    "    \"Capital Gain\", comparer.model_b.predict_odds, X, model_expected_value=True,\n",
    "    feature_expected_value=True, show=False, ice=False\n",
    ")\n",
    "ax.set_title('Partial dependence for predicted odds ratios of model B')"
   ]
  },
  {
   "cell_type": "code",
   "execution_count": 25,
   "metadata": {},
   "outputs": [
    {
     "name": "stderr",
     "output_type": "stream",
     "text": [
      "divide by zero encountered in true_divide\n",
      "divide by zero encountered in true_divide\n",
      "divide by zero encountered in true_divide\n",
      "divide by zero encountered in true_divide\n",
      "divide by zero encountered in true_divide\n",
      "divide by zero encountered in true_divide\n",
      "divide by zero encountered in true_divide\n",
      "divide by zero encountered in true_divide\n",
      "divide by zero encountered in true_divide\n",
      "divide by zero encountered in true_divide\n",
      "divide by zero encountered in true_divide\n",
      "divide by zero encountered in true_divide\n",
      "divide by zero encountered in true_divide\n"
     ]
    },
    {
     "data": {
      "application/vnd.jupyter.widget-view+json": {
       "model_id": "31e2e34192da4bc2b37eaa4c0370b864",
       "version_major": 2,
       "version_minor": 0
      },
      "text/plain": [
       "Canvas(toolbar=Toolbar(toolitems=[('Home', 'Reset original view', 'home', 'home'), ('Back', 'Back to previous …"
      ]
     },
     "metadata": {},
     "output_type": "display_data"
    },
    {
     "data": {
      "application/vnd.jupyter.widget-view+json": {
       "model_id": "598d52c0a3e44121b85ed1d21163f5a1",
       "version_major": 2,
       "version_minor": 0
      },
      "text/plain": [
       "Canvas(toolbar=Toolbar(toolitems=[('Home', 'Reset original view', 'home', 'home'), ('Back', 'Back to previous …"
      ]
     },
     "metadata": {},
     "output_type": "display_data"
    },
    {
     "data": {
      "text/plain": [
       "Text(0.5, 1.0, 'Partial dependence for predicted odds ratios of model B')"
      ]
     },
     "execution_count": 25,
     "metadata": {},
     "output_type": "execute_result"
    }
   ],
   "source": [
    "fig,ax = shap.partial_dependence_plot(\n",
    "    \"Age\", comparer.model_a.predict_odds, X, model_expected_value=True,\n",
    "    feature_expected_value=True, show=False, ice=False\n",
    ")\n",
    "ax.set_title('Partial dependence for predicted odds ratios of model A')\n",
    "\n",
    "fig,ax = shap.partial_dependence_plot(\n",
    "    \"Age\", comparer.model_b.predict_odds, X, model_expected_value=True,\n",
    "    feature_expected_value=True, show=False, ice=False\n",
    ")\n",
    "ax.set_title('Partial dependence for predicted odds ratios of model B')"
   ]
  },
  {
   "cell_type": "markdown",
   "metadata": {},
   "source": [
    "## Log of odds (logit)"
   ]
  },
  {
   "cell_type": "code",
   "execution_count": 26,
   "metadata": {},
   "outputs": [
    {
     "name": "stderr",
     "output_type": "stream",
     "text": [
      "divide by zero encountered in log\n",
      "divide by zero encountered in log\n",
      "divide by zero encountered in log\n",
      "divide by zero encountered in log\n",
      "divide by zero encountered in log\n",
      "divide by zero encountered in log\n",
      "divide by zero encountered in log\n"
     ]
    },
    {
     "data": {
      "application/vnd.jupyter.widget-view+json": {
       "model_id": "18a95906074c4747828447adb767c842",
       "version_major": 2,
       "version_minor": 0
      },
      "text/plain": [
       "Canvas(toolbar=Toolbar(toolitems=[('Home', 'Reset original view', 'home', 'home'), ('Back', 'Back to previous …"
      ]
     },
     "metadata": {},
     "output_type": "display_data"
    },
    {
     "data": {
      "application/vnd.jupyter.widget-view+json": {
       "model_id": "35a2657375ec4fd1b94832547bea6d72",
       "version_major": 2,
       "version_minor": 0
      },
      "text/plain": [
       "Canvas(toolbar=Toolbar(toolitems=[('Home', 'Reset original view', 'home', 'home'), ('Back', 'Back to previous …"
      ]
     },
     "metadata": {},
     "output_type": "display_data"
    },
    {
     "data": {
      "text/plain": [
       "Text(0.5, 1.0, 'Partial dependence for predicted log of odds of model B')"
      ]
     },
     "execution_count": 26,
     "metadata": {},
     "output_type": "execute_result"
    }
   ],
   "source": [
    "fig, ax = shap.partial_dependence_plot(\n",
    "    \"Capital Gain\", comparer.model_a.predict_logit, X, model_expected_value=True,\n",
    "    feature_expected_value=True, show=False, ice=False\n",
    ")\n",
    "ax.set_title('Partial dependence for predicted log of odds of model A')\n",
    "\n",
    "fig, ax = shap.partial_dependence_plot(\n",
    "    \"Capital Gain\", comparer.model_b.predict_logit, X, model_expected_value=True,\n",
    "    feature_expected_value=True, show=False, ice=False\n",
    ")\n",
    "ax.set_title('Partial dependence for predicted log of odds of model B')"
   ]
  },
  {
   "cell_type": "code",
   "execution_count": 27,
   "metadata": {},
   "outputs": [
    {
     "name": "stderr",
     "output_type": "stream",
     "text": [
      "divide by zero encountered in true_divide\n",
      "divide by zero encountered in true_divide\n",
      "divide by zero encountered in true_divide\n",
      "divide by zero encountered in true_divide\n",
      "divide by zero encountered in true_divide\n",
      "divide by zero encountered in true_divide\n",
      "divide by zero encountered in true_divide\n",
      "divide by zero encountered in true_divide\n",
      "divide by zero encountered in true_divide\n",
      "divide by zero encountered in true_divide\n",
      "divide by zero encountered in true_divide\n",
      "divide by zero encountered in true_divide\n",
      "divide by zero encountered in true_divide\n"
     ]
    },
    {
     "data": {
      "application/vnd.jupyter.widget-view+json": {
       "model_id": "b43d8ec31c994eea81d026076e8851ca",
       "version_major": 2,
       "version_minor": 0
      },
      "text/plain": [
       "Canvas(toolbar=Toolbar(toolitems=[('Home', 'Reset original view', 'home', 'home'), ('Back', 'Back to previous …"
      ]
     },
     "metadata": {},
     "output_type": "display_data"
    },
    {
     "data": {
      "application/vnd.jupyter.widget-view+json": {
       "model_id": "d1754cc500f3446a961174f533042771",
       "version_major": 2,
       "version_minor": 0
      },
      "text/plain": [
       "Canvas(toolbar=Toolbar(toolitems=[('Home', 'Reset original view', 'home', 'home'), ('Back', 'Back to previous …"
      ]
     },
     "metadata": {},
     "output_type": "display_data"
    },
    {
     "data": {
      "text/plain": [
       "Text(0.5, 1.0, 'Partial dependence for predicted odds ratios of model B')"
      ]
     },
     "execution_count": 27,
     "metadata": {},
     "output_type": "execute_result"
    }
   ],
   "source": [
    "fig,ax = shap.partial_dependence_plot(\n",
    "    \"Age\", comparer.model_a.predict_odds, X, model_expected_value=True,\n",
    "    feature_expected_value=True, show=False, ice=False\n",
    ")\n",
    "ax.set_title('Partial dependence for predicted odds ratios of model A')\n",
    "\n",
    "fig,ax = shap.partial_dependence_plot(\n",
    "    \"Age\", comparer.model_b.predict_odds, X, model_expected_value=True,\n",
    "    feature_expected_value=True, show=False, ice=False\n",
    ")\n",
    "ax.set_title('Partial dependence for predicted odds ratios of model B')"
   ]
  },
  {
   "cell_type": "code",
   "execution_count": null,
   "metadata": {},
   "outputs": [],
   "source": []
  }
 ],
 "metadata": {
  "kernelspec": {
   "display_name": "Python 3",
   "language": "python",
   "name": "python3"
  },
  "language_info": {
   "codemirror_mode": {
    "name": "ipython",
    "version": 3
   },
   "file_extension": ".py",
   "mimetype": "text/x-python",
   "name": "python",
   "nbconvert_exporter": "python",
   "pygments_lexer": "ipython3",
   "version": "3.9.0"
  }
 },
 "nbformat": 4,
 "nbformat_minor": 4
}
